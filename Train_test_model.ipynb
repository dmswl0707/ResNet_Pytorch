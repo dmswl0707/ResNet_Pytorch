{
  "nbformat": 4,
  "nbformat_minor": 0,
  "metadata": {
    "colab": {
      "name": "Model.ipynb",
      "private_outputs": true,
      "provenance": [],
      "authorship_tag": "ABX9TyMpJL88A9y26PAo3kI3C2Ak",
      "include_colab_link": true
    },
    "kernelspec": {
      "name": "python3",
      "display_name": "Python 3"
    }
  },
  "cells": [
    {
      "cell_type": "markdown",
      "metadata": {
        "id": "view-in-github",
        "colab_type": "text"
      },
      "source": [
        "<a href=\"https://colab.research.google.com/github/dmswl0707/ResNet_Pytorch/blob/main/Train_test_model.ipynb\" target=\"_parent\"><img src=\"https://colab.research.google.com/assets/colab-badge.svg\" alt=\"Open In Colab\"/></a>"
      ]
    },
    {
      "cell_type": "code",
      "metadata": {
        "id": "DP-udC4zS_uq"
      },
      "source": [
        "import torchvision\n",
        "import torchvision.transforms as transforms\n",
        "import torch"
      ],
      "execution_count": null,
      "outputs": []
    },
    {
      "cell_type": "code",
      "metadata": {
        "id": "ck_nzIgdQ6Iq"
      },
      "source": [
        "### Data_loader\n",
        "transform = transforms.Compose(\n",
        "    [transforms.ToTensor(),\n",
        "     transforms.Normalize((0.5, 0.5, 0.5), (0.5, 0.5, 0.5))])\n",
        "\n",
        "trainset = torchvision.datasets.CIFAR10(root='./data',train = True, download = True, transform = transform)\n",
        "trainloader = torch.utils.data.DataLoader(trainset, batch_size=32,\n",
        "                                          shuffle=True, num_workers=2)\n"
      ],
      "execution_count": null,
      "outputs": []
    },
    {
      "cell_type": "code",
      "metadata": {
        "id": "AHdDTGdEUmCB"
      },
      "source": [
        "### 이미지 확인\n",
        "\n",
        "import matplotlib.pyplot as plt\n",
        "import numpy as np\n",
        "\n",
        "def imshow(img):\n",
        "    img = img / 2 + 0.5\n",
        "    npimg = img.numpy()\n",
        "    plt.imshow(np.transpose(npimg, (1, 2, 0)))\n",
        "    plt.show()\n",
        "\n",
        "dataiter = iter(trainloader)\n",
        "images, labels = dataiter.next()\n",
        "\n",
        "imshow(torchvision.utils.make_grid(images))"
      ],
      "execution_count": null,
      "outputs": []
    },
    {
      "cell_type": "code",
      "metadata": {
        "id": "Qk9J-JIwY-MX"
      },
      "source": [
        "### model(ResNet)\r\n",
        "\r\n",
        "def conv_block_1(in_dim, out_dim, act_fn, stride=1):\r\n",
        "    model=nn.Sequential(\r\n",
        "        nn.Conv2d(in_dim,out_dim, kernerl_size=1, stride=stride),\r\n",
        "        act_fn\r\n",
        "    )\r\n",
        "    return model\r\n",
        "\r\n",
        "def conv_block_3(in_dim, out_dim, act_fn):\r\n",
        "    model=nn.Sequential(\r\n",
        "        nn.Conv2d(in_dim, out_dim, kernel_size=3, stride=1, padding=1),\r\n",
        "        act_fn\r\n",
        "    )\r\n",
        "    return model \r\n",
        "\r\n",
        "class BottleNeck(nn.Module):\r\n",
        "    def __init__(self, in_dim, mid_dim, out_dim, act_fn,down=False):\r\n",
        "        super(BottleNeck, self).__init__()\r\n",
        "        self.act_fn=act_fn\r\n",
        "        self.down=down\r\n",
        "\r\n",
        "        if self.down:\r\n",
        "            self.layer=nn.Sequential(\r\n",
        "                conv_block_1(in_dim, mid_dim, act_fn,2),\r\n",
        "                conv_block_3(mid_dim, mid_dim, act_fn),\r\n",
        "                conv_block_1(mid_dim,out_dim, act_fn),\r\n",
        "            )\r\n",
        "            self.downsample=nn.Conv2d(in_dim, out_dim,1,2)\r\n",
        "        else:\r\n",
        "            self.layer=nn.Sequential(\r\n",
        "                conv_block_1(in_dim, mid_dim, act_fn),\r\n",
        "                conv_block_3(mid_dim, mid_dim, act_fn),\r\n",
        "                conv_block_1(mid_dim, out_dim, act_fn),\r\n",
        "            )\r\n",
        "            self.dim_equalizer=nn.Conv2d(in_dim, out_dim, kernel_size=1)\r\n",
        "\r\n",
        "        def forward(self, x):\r\n",
        "            if self.down:\r\n",
        "                dpwnsample=self.downsample(x)\r\n",
        "                out=self.layer(x)\r\n",
        "                out=out+downsample\r\n",
        "            else:\r\n",
        "                out=self.layer(x)\r\n",
        "                if x.size() is not out.size():\r\n",
        "                    x=self.dim_equalizer(x)\r\n",
        "                out=out+x\r\n",
        "            return out\r\n",
        "\r\n",
        "            \r\n",
        "class ResNet(nn.Module):\r\n",
        "\r\n",
        "    def __init__(self, base_dim, num_classes=2):\r\n",
        "        super(ResNet, self).__init__()\r\n",
        "        self.act_fn=nn.ReLU()\r\n",
        "        self.layer_1 = nn.Sequential(\r\n",
        "            nn.Conv2d(3, base_dim,7,2,3),\r\n",
        "            nn.ReLU(),\r\n",
        "            nn.MaxPool2d(3,2,1)\r\n",
        "        )\r\n",
        "        self.layer_2 = nn.Sequential(\r\n",
        "            BottleNeck(base_dim, base_dim, base_dim*4, self.act_fn),\r\n",
        "            BottleNeck(base_dim*4, base_dim, base_dim*4, self.act_fn),\r\n",
        "            BottleNeck(base_dim*4, base_dim, base_dim*4, self.act_fn, down=True)\r\n",
        "        )\r\n",
        "        self.layer_3 = nn.Sequential(\r\n",
        "            BottleNeck(base_dim*4, base_dim*2, base_dim*8, self.act_fn),\r\n",
        "            BottleNeck(base_dim*8, base_dim*2, base_dim*8, self.act_fn),\r\n",
        "            BottleNeck(base_dim*8, base_dim*2, base_dim*8, self.act_fn),\r\n",
        "            BottleNeck(base_dim*8, base_dim*2, base_dim*8, self.act_fn, down=True)\r\n",
        "        )\r\n",
        "        self.layer_4 = nn.Sequential(\r\n",
        "            BottleNeck(base_dim*8, base_dim*4, base_dim*16, self.act_fn),\r\n",
        "            BottleNeck(base_dim*16, base_dim*4, base_dim*16, self.act_fn),\r\n",
        "            BottleNeck(base_dim*16, base_dim*4, base_dim*16, self.act_fn),\r\n",
        "            BottleNeck(base_dim*16, base_dim*4, base_dim*16, self.act_fn),\r\n",
        "            BottleNeck(base_dim*16, base_dim*4, base_dim*16, self.act_fn),\r\n",
        "            BottleNeck(base_dim*16, base_dim*4, base_dim*16, self.act_fn, down=True)\r\n",
        "        \r\n",
        "        self.layer_5 = nn.Sequential(\r\n",
        "            BottleNeck(base_dim*16, base_dim*8, base_dim*32, self.act_fn),\r\n",
        "            BottleNeck(base_dim*32, base_dim*8, base_dim*32, self.act_fn),\r\n",
        "            BottleNeck(base_dim*32, base_dim*8, base_dim*32, self.act_fn)\r\n",
        "        )\r\n",
        "        self.avgpool = nn.AvgPool2d(7,1)\r\n",
        "        self.fc_layer=nn.Linear(base_dim*32, num_classes)\r\n",
        "\r\n",
        "        def forward(self,x):\r\n",
        "            out=self.layer_1(x)\r\n",
        "            out=self.layer_2(out)\r\n",
        "            out=self.layer_3(out)\r\n",
        "            out=self.layer_4(out)\r\n",
        "            out=self.layer_5(out)\r\n",
        "            out=self.avgpool(out)\r\n",
        "            out=out.view(batch_size, -1)\r\n",
        "            out=self.fc_layer(out)\r\n",
        "            return out"
      ],
      "execution_count": null,
      "outputs": []
    },
    {
      "cell_type": "code",
      "metadata": {
        "id": "rXWD5xZ7xc2p"
      },
      "source": [
        "# 손실 함수, optimizer 정의\n",
        "\n",
        "import torch.optim as optim\n",
        "\n",
        "criterion = nn.CrossEntropyLoss()\n",
        "optimizer = optim.SGD(ResNet.parameters(), lr = 0.001, momentun = 0.9)"
      ],
      "execution_count": null,
      "outputs": []
    },
    {
      "cell_type": "code",
      "metadata": {
        "id": "WCROOL_vy2Lc"
      },
      "source": [
        "# training\n",
        "\n",
        "for epoch in range(2):\n",
        "\n",
        "    running_loss = 0.0\n",
        "    for i, data in enumerate(trainloader, 0):\n",
        "        inputs, labels = data\n",
        "\n",
        "        optimizer.zero_grad()\n",
        "\n",
        "        outputs = ResNet(inputs)\n",
        "        loss = criterion(outputs, labels)\n",
        "        loss.backward()\n",
        "\n",
        "        running_loss += loss.item()\n",
        "        if i % 2000 == 1999:\n",
        "            print('[%d, %5d] loss : %.3f' % \n",
        "                  (epoch+1, i+1, running_loss/2000)) \n",
        "            running_loss = 0.0"
      ],
      "execution_count": null,
      "outputs": []
    },
    {
      "cell_type": "code",
      "metadata": {
        "id": "teaRnF3k0bFT"
      },
      "source": [
        "# 학습한 모델 저장\n",
        "\n",
        "PATH = './cifar_net.pth'\n",
        "torch.save(ResNet.state_dict(), PATH)"
      ],
      "execution_count": null,
      "outputs": []
    },
    {
      "cell_type": "code",
      "metadata": {
        "id": "aN9UmbNG06w4"
      },
      "source": [
        "correct = 0\n",
        "total = 0\n",
        "with torch.no_grad():\n",
        "    for data in testloader:\n",
        "        images, labels = data\n",
        "        outputs = net(images)\n",
        "        _, predicted = torch.max(outputs.data, 1)\n",
        "        total += labels.size(0)\n",
        "        correct += (predicted == labels).sum().item()\n",
        "\n",
        "print('Accuracy of the network on the 10000 test images: %d %%' % (\n",
        "    100 * correct / total))"
      ],
      "execution_count": null,
      "outputs": []
    }
  ]
}