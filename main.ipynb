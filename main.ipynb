{
  "nbformat": 4,
  "nbformat_minor": 0,
  "metadata": {
    "colab": {
      "name": "main.ipynb",
      "private_outputs": true,
      "provenance": [],
      "authorship_tag": "ABX9TyMxXgk/K3zF/N9AlKtdE9/i",
      "include_colab_link": true
    },
    "kernelspec": {
      "name": "python3",
      "display_name": "Python 3"
    }
  },
  "cells": [
    {
      "cell_type": "markdown",
      "metadata": {
        "id": "view-in-github",
        "colab_type": "text"
      },
      "source": [
        "<a href=\"https://colab.research.google.com/github/dmswl0707/ResNet_Pytorch/blob/main/main.ipynb\" target=\"_parent\"><img src=\"https://colab.research.google.com/assets/colab-badge.svg\" alt=\"Open In Colab\"/></a>"
      ]
    },
    {
      "cell_type": "code",
      "metadata": {
        "id": "gulrC_WnZdwb"
      },
      "source": [
        " if __name__==\"__main__\":\r\n",
        "    writer = SummaryWriter()\r\n",
        "    device = torch.device(\"cuda:0\" if torch.cuda.is_available() else \"cpu\")\r\n",
        "\r\n",
        "    #hyperparameter\r\n",
        "    lr = 0.005\r\n",
        "    epoch = 50\r\n",
        "    batch_size = 100\r\n",
        "\r\n",
        "    train_loader, test_loader = load_mnist(batch_size)        #데이터 셋 로드\r\n",
        "\r\n",
        "    model = Net().to(device)                            # 모델 불러오기\r\n",
        "\r\n",
        "    optimizer = optim.Adam(model.parameters(), lr)      #optimizer 설정\r\n",
        "\r\n",
        "    print(summary(model, input_size=(1, 28, 28)))\r\n",
        "\r\n",
        "    train(epoch, model, train_loader)\r\n",
        "    test(model, test_loader)"
      ],
      "execution_count": null,
      "outputs": []
    }
  ]
}