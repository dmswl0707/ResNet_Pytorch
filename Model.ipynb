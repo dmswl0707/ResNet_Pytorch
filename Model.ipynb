{
  "nbformat": 4,
  "nbformat_minor": 0,
  "metadata": {
    "colab": {
      "name": "Model.ipynb",
      "private_outputs": true,
      "provenance": [],
      "authorship_tag": "ABX9TyNvRAHcQD7vZUVuUZQJ4iaU",
      "include_colab_link": true
    },
    "kernelspec": {
      "name": "python3",
      "display_name": "Python 3"
    }
  },
  "cells": [
    {
      "cell_type": "markdown",
      "metadata": {
        "id": "view-in-github",
        "colab_type": "text"
      },
      "source": [
        "<a href=\"https://colab.research.google.com/github/dmswl0707/ResNet_Pytorch/blob/main/Model.ipynb\" target=\"_parent\"><img src=\"https://colab.research.google.com/assets/colab-badge.svg\" alt=\"Open In Colab\"/></a>"
      ]
    },
    {
      "cell_type": "code",
      "metadata": {
        "id": "Qk9J-JIwY-MX"
      },
      "source": [
        "class ResNet(nn.Module):\r\n",
        "\r\n",
        "    def __init__(self, base_dim, num_classes=2):\r\n",
        "        super(ResNet, self).__init__()\r\n",
        "        self.act_fn=nn.ReLU()\r\n",
        "        self.layer_1=nn.Sequential(\r\n",
        "            nn.Conv2d(3, base_dim,7,2,3),\r\n",
        "            nn.ReLU(),\r\n",
        "            nn.MaxPool2d(3,2,1),\r\n",
        "        )\r\n",
        "        self.layer_2=nn.Sequential(\r\n",
        "            BottleNeck(base_dim, base_dim, base_dim*4, self.act_fn),\r\n",
        "            BottleNeck(base_dim*4, base_dim, base_dim*4, self.act_fn),\r\n",
        "            BottleNeck(base_dim*4, base_dim, base_dim*4, self.act_fn, down=True),\r\n",
        "        )\r\n",
        "        self.layer_3=nn.Sequential(\r\n",
        "            BottleNeck(base_dim*4, base_dim*2, base_dim*8, self.act_fn),\r\n",
        "            BottleNeck(base_dim*8, base_dim*2, base_dim*8, self.act_fn),\r\n",
        "            BottleNeck(base_dim*8, base_dim*2, base_dim*8, self.act_fn),\r\n",
        "            BottleNeck(base_dim*8, base_dim*2, base_dim*8, self.act_fn, down=True),\r\n",
        "        )\r\n",
        "        self.layer_4=nn.Sequential(\r\n",
        "            BottleNeck(base_dim*8, base_dim*4, base_dim*16, self.act_fn),\r\n",
        "            BottleNeck(base_dim*16, base_dim*4, base_dim*16, self.act_fn),\r\n",
        "            BottleNeck(base_dim*16, base_dim*4, base_dim*16, self.act_fn),\r\n",
        "            BottleNeck(base_dim*16, base_dim*4, base_dim*16, self.act_fn),\r\n",
        "            BottleNeck(base_dim*16, base_dim*4, base_dim*16, self.act_fn),\r\n",
        "            BottleNeck(base_dim*16, base_dim*4, base_dim*16, self.act_fn, down=True),\r\n",
        "        \r\n",
        "        self.layer_5=nn.Sequential(\r\n",
        "            BottleNeck(base_dim*16, base_dim*8, base_dim*32, self.act_fn),\r\n",
        "            BottleNeck(base_dim*32, base_dim*8, base_dim*32, self.act_fn),\r\n",
        "            BottleNeck(base_dim*32, base_dim*8, base_dim*32, self.act_fn),\r\n",
        "        )\r\n",
        "        self.avgpool=nn.AvgPool2d(7,1)\r\n",
        "        self.fc_layer=nn.Linear(base_dim*32, num_classes)\r\n",
        "\r\n",
        "        def forward(self,x):\r\n",
        "            out=self.layer_1(x)\r\n",
        "            out=self.layer_2(out)\r\n",
        "            out=self.layer_3(out)\r\n",
        "            out=self.layer_4(out)\r\n",
        "            out=self.layer_5(out)\r\n",
        "            out=self.avgpool(out)\r\n",
        "            out=out.view(batch_size, -1)\r\n",
        "            out=self.fc_layer(out)\r\n",
        "            return out"
      ],
      "execution_count": null,
      "outputs": []
    }
  ]
}